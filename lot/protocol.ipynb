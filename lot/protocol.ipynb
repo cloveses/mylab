{
 "cells": [
  {
   "cell_type": "code",
   "execution_count": 3,
   "metadata": {},
   "outputs": [
    {
     "data": {
      "text/plain": [
       "b'\\x03\\x00\\x00\\x00\\x04\\x00\\x00\\x00aacff'"
      ]
     },
     "execution_count": 3,
     "metadata": {},
     "output_type": "execute_result"
    }
   ],
   "source": [
    "import struct\n",
    "struct.pack('2i5s',3,4,b'aacff')"
   ]
  },
  {
   "cell_type": "code",
   "execution_count": 18,
   "metadata": {},
   "outputs": [
    {
     "data": {
      "text/plain": [
       "(3, 4)"
      ]
     },
     "execution_count": 18,
     "metadata": {},
     "output_type": "execute_result"
    }
   ],
   "source": [
    "struct.unpack('2i', b'\\x03\\x00\\x00\\x00\\x04\\x00\\x00\\x00aacff'[:8])"
   ]
  },
  {
   "cell_type": "code",
   "execution_count": 17,
   "metadata": {},
   "outputs": [
    {
     "data": {
      "text/plain": [
       "8"
      ]
     },
     "execution_count": 17,
     "metadata": {},
     "output_type": "execute_result"
    }
   ],
   "source": [
    "struct.calcsize('2i')"
   ]
  },
  {
   "cell_type": "code",
   "execution_count": 33,
   "metadata": {},
   "outputs": [
    {
     "name": "stdout",
     "output_type": "stream",
     "text": [
      "data felddhoailurlpq\n",
      "primary data: [0, 19, 0, 29, 1, 2, 0, 15, b'felddhoailurlpq']\n",
      "packed_data b'\\x00\\x00\\x00\\x00\\x13\\x00\\x00\\x00\\x00\\x00\\x00\\x00\\x1d\\x00\\x00\\x00\\x01\\x00\\x00\\x00\\x02\\x00\\x00\\x00\\x00\\x00\\x00\\x00\\x0f\\x00\\x00\\x00felddhoailurlpq'\n"
     ]
    }
   ],
   "source": [
    "import struct\n",
    "import random\n",
    "\n",
    "\n",
    "int_length = struct.calcsize('8i')\n",
    "\n",
    "def make_datas():\n",
    "    req_or_ack = random.randint(1, 2)\n",
    "    device_id = random.randint(1, 20)\n",
    "    client_id = random.randint(21, 40)\n",
    "    str_datas = ''.join([chr(random.randint(97,122)) for i in range(random.randint(10,20))])\n",
    "    print('data', str_datas)\n",
    "    return req_or_ack, device_id, client_id, str_datas\n",
    "\n",
    "def union_datas(req_or_ack, device_id, client_id, data, message_type=1, device_type=0, message_version=0):\n",
    "    # req_or_ack req:1, ack:2\n",
    "    # req_len 6th int\n",
    "    # ack_len 7th int\n",
    "    # data string\n",
    "    \n",
    "    data_len = len(data)\n",
    "    datas = [message_version, device_id, device_type, client_id, message_type, req_or_ack]\n",
    "    if req_or_ack == 1:\n",
    "        datas.extend((data_len, 0, data.encode()))\n",
    "    elif req_or_ack == 2:\n",
    "        datas.extend((0, data_len, data.encode()))\n",
    "    else:\n",
    "        raise ValueError('req_or_ack is not valid!')\n",
    "    print('primary data:', datas)\n",
    "    return datas, data_len\n",
    "\n",
    "def pack_msg_between_dev(datas, data_len):\n",
    "    char_len = len(datas[-1])\n",
    "    packed_data = struct.pack('8i%ds' % data_len, *datas)\n",
    "    print('packed_data', packed_data)\n",
    "    return packed_data\n",
    "\n",
    "datas = make_datas()\n",
    "datas, data_len = union_datas(*datas)\n",
    "packed_data = pack_msg_between_dev(datas, data_len)"
   ]
  },
  {
   "cell_type": "code",
   "execution_count": 34,
   "metadata": {},
   "outputs": [
    {
     "name": "stdout",
     "output_type": "stream",
     "text": [
      "(0, 19, 0, 29, 1, 2, 0, 15)\n",
      "(0, 19, 0, 29, 1, 2, 0, 15, b'felddhoailurlpq') felddhoailurlpq\n"
     ]
    }
   ],
   "source": [
    "def unpack_msg_between_dev(datas):\n",
    "    unpack_datas = struct.unpack('8i', datas[:int_length])\n",
    "    print(unpack_datas)\n",
    "    req_or_ack = unpack_datas[-3]\n",
    "    if req_or_ack == 1:\n",
    "        data_len = unpack_datas[-2]\n",
    "    elif req_or_ack == 2:\n",
    "        data_len = unpack_datas[-1]\n",
    "    else:\n",
    "        raise ValueError('req_or_ack is not valid!')\n",
    "    unpack_datas = struct.unpack('8i%ds' % data_len, datas)\n",
    "    print(unpack_datas, unpack_datas[-1].decode())\n",
    "    \n",
    "    \n",
    "unpack_msg_between_dev(packed_data)\n",
    "    "
   ]
  }
 ],
 "metadata": {
  "kernelspec": {
   "display_name": "Python 3",
   "language": "python",
   "name": "python3"
  },
  "language_info": {
   "codemirror_mode": {
    "name": "ipython",
    "version": 3
   },
   "file_extension": ".py",
   "mimetype": "text/x-python",
   "name": "python",
   "nbconvert_exporter": "python",
   "pygments_lexer": "ipython3",
   "version": "3.6.7"
  },
  "varInspector": {
   "cols": {
    "lenName": 16,
    "lenType": 16,
    "lenVar": 40
   },
   "kernels_config": {
    "python": {
     "delete_cmd_postfix": "",
     "delete_cmd_prefix": "del ",
     "library": "var_list.py",
     "varRefreshCmd": "print(var_dic_list())"
    },
    "r": {
     "delete_cmd_postfix": ") ",
     "delete_cmd_prefix": "rm(",
     "library": "var_list.r",
     "varRefreshCmd": "cat(var_dic_list()) "
    }
   },
   "types_to_exclude": [
    "module",
    "function",
    "builtin_function_or_method",
    "instance",
    "_Feature"
   ],
   "window_display": false
  }
 },
 "nbformat": 4,
 "nbformat_minor": 2
}
