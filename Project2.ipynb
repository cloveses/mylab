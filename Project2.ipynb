{
 "cells": [
  {
   "cell_type": "markdown",
   "metadata": {},
   "source": [
    "---"
   ]
  },
  {
   "cell_type": "markdown",
   "metadata": {},
   "source": [
    "## Project Instruction\n",
    "\n",
    "- Please rename this file so that you know which copy you have been working in. Keep a copy safe (especially if you are working in the online Jupyter service), for instance you could store your work on GitLab. You can download a copy by choosing -File- then -Download as- Notebook from the menu above. \n",
    "- Make sure your code is readable, organised, and commented appropriately.\n",
    "\n",
    "\n",
    "The following tasks are all open-ended, so you should plan to work on them and investigate the problems raised and think about what you wish to cover. Because the task is open-ended you don't need to talk about every aspect of the problem to get a good mark - you should aim to present a coherent and well coded investigation into some aspects of each task though. The listed questions are a guide to some things you could think about to get you started, you don't need to answer them all, and you can certainly answer questions that are not listed.\n",
    "\n",
    "When you are presenting your investigation of each problem, be sure to make a coherent discussion for each task (using markdown, maths as appropriate and code cells). You needed to make a single written response to the task combining all of the code and writing that you each contribute - this is something that you should plan to do and the quality of presentation will be marked."
   ]
  },
  {
   "cell_type": "markdown",
   "metadata": {},
   "source": [
    "## Task 1 - Analysing the product reviews"
   ]
  },
  {
   "cell_type": "markdown",
   "metadata": {},
   "source": [
    "In this project, you are supposed to analyse product reviews and extract helpful information from them. The case we are studying here is the review dataset of women’s clothes that are sold by a company online. In the file `WomensApparelReviews.csv`, you are given over 23000 reviews that are real but anonymized. The columns of this dataset are the following variables:\n",
    "\n",
    "\n",
    "**Product ID**: integer variable that refers to the specific item that is reviewed.\n",
    "\n",
    "**Age**: the reviewers age.\n",
    "\n",
    "**Title**: the title picked by the reviewer (some reviewers didn't pick any titles).\n",
    "\n",
    "**Review Text**: the body text of the review.\n",
    "\n",
    "**Rating**: the product score given by the customer from 1 (worst), to 5 (best).\n",
    "\n",
    "**Is it Recommended?**: the customers are asked whether or not they recommend the product. 1 means the product is recommended, 0 means not recommended.\n",
    "\n",
    "**Department**: the products are classified in different departments such as dress, top and ...\n",
    "\n",
    "A major part of this task is analysing the review text and deciding how positive or negative it is. To that end, there are two more data files: `positive-words.txt` and `negative-words.txt`, which contain lists of positive and negative words, respectively. These words come from the paper by *Minqing Hu and Bing Liu. \"Mining and summarizing customer reviews.\" Proceedings of the ACM SIGKDD International Conference on Knowledge Discovery & Data Mining, Seattle, Washington, USA, Aug 22-25, 2004*. You will need to invent a metric for how positive or negative \"Review Text\" is, based on how many of the words in it are in the positive/negative word lists. For instance, is a review containing one positive and one negative word: overall positive, negative or neutral? - try and develop a single measure based on the word occurrences that will describe the positivity/negativity of the review. You can also decide if a \"Title\" is positive, negative or neutral by searching for them in the lists of positive and negative words. Once you have developed one positivity/negativity measure can you think of other measures that you could compare?\n",
    "\n",
    "This project is open-ended, so you can come up with your own ideas to analyse the dataset and extract useful information or interesting facts. However at least one of the ideas you present should make use of the positive and negative word lists for analysing the reviews text. Here are some questions you might address in your analysis (of course you are not limited to just these questions):\n",
    "\n",
    "- What is the age distribution of customers?\n",
    "- What is the most popular item in each age group? (you can classify the ages however you think appropriate - be sure to justify what you do).\n",
    "- Using the measure of negativity or positivity that you define, rate the reviews. You can also decide whether a title is positive or negative. Are the negativity-positivity of the titles and that of the review texts correlated? \n",
    "- What is the average rating in positive, negative or neutral reviews?\n",
    "- Is the rating correlated to your measure of negativity-positivity? \n",
    "- Are there many outliers who wrote a negative text but left a high rating (or vice versa)?\n",
    "- Which product attracted the most positive reviews? This would help the company to focus more on the product that people liked or make changes to the product that people did not like. Is there any such advice you could give them on the products that could come from the reviews?\n",
    "- What is the most recommended product? What is the least recommended product?\n",
    "- Which group of reviewers wrote a longer text in their review? Do unhappy customers write longer reviews or satisfied customers? \n",
    "- Which age group uses more positive words? Which age group uses more negative words?\n",
    "- Are older people more inclined to recommend a product or younger people?\n",
    "- Is it true that unhappy customers use more capital letters? or it is the other way around?\n",
    "- Can you come up with a way to consider the positive words in a negative statement negative? For example, \"Not impressed or satisfied\" is a negative title, but if you just count the positive and negative words, you will find two positive words (\"impressed\" and \"satisfied\") and a negative word (\"not\"). Hence, just based on the word count, you might wrongly find the title to be positive. This might be easier for the titles, but you can also break down the review text to sentences and apply your method there.\n"
   ]
  },
  {
   "cell_type": "code",
   "execution_count": null,
   "metadata": {
    "collapsed": true
   },
   "outputs": [],
   "source": []
  }
 ],
 "metadata": {
  "anaconda-cloud": {},
  "kernelspec": {
   "display_name": "Python 3",
   "language": "python",
   "name": "python3"
  },
  "language_info": {
   "codemirror_mode": {
    "name": "ipython",
    "version": 3
   },
   "file_extension": ".py",
   "mimetype": "text/x-python",
   "name": "python",
   "nbconvert_exporter": "python",
   "pygments_lexer": "ipython3",
   "version": "3.7.3"
  }
 },
 "nbformat": 4,
 "nbformat_minor": 2
}
